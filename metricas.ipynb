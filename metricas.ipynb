{
 "cells": [
  {
   "cell_type": "markdown",
   "id": "3cb39948",
   "metadata": {},
   "source": [
    "# Métricas de Avaliação "
   ]
  },
  {
   "cell_type": "markdown",
   "id": "0994b48f",
   "metadata": {},
   "source": [
    "- Sensibilidade: Mede a capacidade do modelo em identificar corretamente as instâncias positivas. É calculada como a razão entre o número de verdadeiros positivos e a soma dos verdadeiros positivos e falsos negativos.\n",
    "- Especificidade: Mede a capacidade do modelo em identificar corretamente as instâncias negativas. É calculada como a razão entre o número de verdadeiros negativos e a soma dos verdadeiros negativos e falsos positivos.\n",
    "- Acurácia: Mede a capacidade do modelo em classificar corretamente todas as instâncias. É calculada como a razão entre o número total de acertos (verdadeiros positivos e verdadeiros negativos) e o número total de instâncias.\n",
    "- Precisão: Mede a proporção de instâncias classificadas como positivas que são realmente positivas. É calculada como a razão entre o número de verdadeiros positivos e a soma dos verdadeiros positivos e falsos positivos.\n",
    "- F1 Score: É a média harmônica entre precisão e sensibilidade, oferecendo uma medida balanceada entre as duas métricas. É especialmente útil quando há um desbalanceamento entre as classes. "
   ]
  },
  {
   "cell_type": "markdown",
   "id": "863d4d35",
   "metadata": {},
   "source": [
    "## codigo para obter matrix de confusão"
   ]
  },
  {
   "cell_type": "code",
   "execution_count": 13,
   "id": "a053af4c",
   "metadata": {},
   "outputs": [],
   "source": [
    "import tensorflow as tf\n",
    "from tensorflow.keras import datasets, layers, models\n",
    "import numpy as np\n",
    "import pandas as pd\n",
    "import matplotlib.pyplot as plt\n",
    "import seaborn as sns"
   ]
  },
  {
   "cell_type": "code",
   "execution_count": 3,
   "id": "cfc6557f",
   "metadata": {},
   "outputs": [
    {
     "data": {
      "text/plain": [
       "'2.19.0'"
      ]
     },
     "execution_count": 3,
     "metadata": {},
     "output_type": "execute_result"
    }
   ],
   "source": [
    "tf.__version__"
   ]
  },
  {
   "cell_type": "code",
   "execution_count": 6,
   "id": "b79d332f",
   "metadata": {},
   "outputs": [
    {
     "name": "stdout",
     "output_type": "stream",
     "text": [
      "The tensorboard extension is already loaded. To reload it, use:\n",
      "  %reload_ext tensorboard\n"
     ]
    }
   ],
   "source": [
    "%load_ext tensorboard\n",
    "logdir = 'log'"
   ]
  },
  {
   "cell_type": "code",
   "execution_count": 7,
   "id": "0f65043e",
   "metadata": {},
   "outputs": [
    {
     "name": "stdout",
     "output_type": "stream",
     "text": [
      "Downloading data from https://storage.googleapis.com/tensorflow/tf-keras-datasets/mnist.npz\n",
      "\u001b[1m11490434/11490434\u001b[0m \u001b[32m━━━━━━━━━━━━━━━━━━━━\u001b[0m\u001b[37m\u001b[0m \u001b[1m2s\u001b[0m 0us/step\n"
     ]
    }
   ],
   "source": [
    "(train_images, train_labels), (test_images, test_labels) = datasets.mnist.load_data()"
   ]
  },
  {
   "cell_type": "code",
   "execution_count": 8,
   "id": "6adcb55e",
   "metadata": {},
   "outputs": [],
   "source": [
    "train_images = train_images.reshape((60000, 28, 28, 1)).astype('float32') / 255\n",
    "test_images = test_images.reshape((10000, 28, 28, 1)).astype('float32') / 255\n",
    "\n",
    "classes = [str(i) for i in range(10)]"
   ]
  },
  {
   "cell_type": "code",
   "execution_count": 9,
   "id": "128ba8a2",
   "metadata": {},
   "outputs": [
    {
     "name": "stderr",
     "output_type": "stream",
     "text": [
      "c:\\Users\\lexan\\OneDrive\\Documents\\machine_learning\\projeto_dio_calculo_metricas_avaliacao\\.venv\\Lib\\site-packages\\keras\\src\\layers\\convolutional\\base_conv.py:113: UserWarning: Do not pass an `input_shape`/`input_dim` argument to a layer. When using Sequential models, prefer using an `Input(shape)` object as the first layer in the model instead.\n",
      "  super().__init__(activity_regularizer=activity_regularizer, **kwargs)\n"
     ]
    }
   ],
   "source": [
    "model = models.Sequential([\n",
    "    layers.Conv2D(32, (3, 3), activation='relu', input_shape=(28, 28, 1)),\n",
    "    layers.MaxPooling2D((2, 2)),\n",
    "    layers.Conv2D(64, (3, 3), activation='relu'),\n",
    "    layers.MaxPooling2D((2, 2)),\n",
    "    layers.Conv2D(64, (3, 3), activation='relu'),\n",
    "    layers.Flatten(),\n",
    "    layers.Dense(64, activation='relu'),\n",
    "    layers.Dense(10)\n",
    "])"
   ]
  },
  {
   "cell_type": "code",
   "execution_count": 10,
   "id": "3d9ed288",
   "metadata": {},
   "outputs": [
    {
     "name": "stdout",
     "output_type": "stream",
     "text": [
      "Epoch 1/5\n",
      "\u001b[1m1875/1875\u001b[0m \u001b[32m━━━━━━━━━━━━━━━━━━━━\u001b[0m\u001b[37m\u001b[0m \u001b[1m13s\u001b[0m 6ms/step - accuracy: 0.1299 - loss: 2.7740 - val_accuracy: 0.1298 - val_loss: 2.3026\n",
      "Epoch 2/5\n",
      "\u001b[1m1875/1875\u001b[0m \u001b[32m━━━━━━━━━━━━━━━━━━━━\u001b[0m\u001b[37m\u001b[0m \u001b[1m11s\u001b[0m 6ms/step - accuracy: 0.1313 - loss: 2.3026 - val_accuracy: 0.1298 - val_loss: 2.3026\n",
      "Epoch 3/5\n",
      "\u001b[1m1875/1875\u001b[0m \u001b[32m━━━━━━━━━━━━━━━━━━━━\u001b[0m\u001b[37m\u001b[0m \u001b[1m12s\u001b[0m 6ms/step - accuracy: 0.1302 - loss: 2.3026 - val_accuracy: 0.1298 - val_loss: 2.3026\n",
      "Epoch 4/5\n",
      "\u001b[1m1875/1875\u001b[0m \u001b[32m━━━━━━━━━━━━━━━━━━━━\u001b[0m\u001b[37m\u001b[0m \u001b[1m12s\u001b[0m 7ms/step - accuracy: 0.1305 - loss: 2.3026 - val_accuracy: 0.1298 - val_loss: 2.3026\n",
      "Epoch 5/5\n",
      "\u001b[1m1875/1875\u001b[0m \u001b[32m━━━━━━━━━━━━━━━━━━━━\u001b[0m\u001b[37m\u001b[0m \u001b[1m11s\u001b[0m 6ms/step - accuracy: 0.1282 - loss: 2.3026 - val_accuracy: 0.1298 - val_loss: 2.3026\n"
     ]
    },
    {
     "data": {
      "text/plain": [
       "<keras.src.callbacks.history.History at 0x169180d18b0>"
      ]
     },
     "execution_count": 10,
     "metadata": {},
     "output_type": "execute_result"
    }
   ],
   "source": [
    "model.compile(optimizer='adam', loss='sparse_categorical_crossentropy', metrics=['accuracy'])\n",
    "model.fit(train_images, train_labels, epochs=5, validation_data=(test_images, test_labels))"
   ]
  },
  {
   "cell_type": "code",
   "execution_count": 12,
   "id": "a9514350",
   "metadata": {},
   "outputs": [
    {
     "name": "stdout",
     "output_type": "stream",
     "text": [
      "\u001b[1m313/313\u001b[0m \u001b[32m━━━━━━━━━━━━━━━━━━━━\u001b[0m\u001b[37m\u001b[0m \u001b[1m1s\u001b[0m 3ms/step\n"
     ]
    }
   ],
   "source": [
    "y_true = test_labels\n",
    "y_pred = model.predict(test_images)\n",
    "y_pred_classes = np.argmax(y_pred, axis=1)"
   ]
  },
  {
   "cell_type": "code",
   "execution_count": 15,
   "id": "f856f5ea",
   "metadata": {},
   "outputs": [
    {
     "data": {
      "image/png": "[encoded data removed]",
      "text/plain": [
       "<Figure size 800x800 with 2 Axes>"
      ]
     },
     "metadata": {},
     "output_type": "display_data"
    }
   ],
   "source": [
    "# Calcula a matriz de confusão\n",
    "con_mat = tf.math.confusion_matrix(labels=y_true, predictions=y_pred_classes).numpy()\n",
    "\n",
    "# Normaliza a matriz de confusão para que as linhas somem 1\n",
    "con_mat_norm = np.around(con_mat.astype('float') / con_mat.sum(axis=1)[:, np.newaxis], decimals=2)\n",
    "\n",
    "# Cria um DataFrame do Pandas para facilitar a plotagem\n",
    "con_mat_df = pd.DataFrame(con_mat_norm,\n",
    "                          index = classes,\n",
    "                          columns = classes)\n",
    "\n",
    "# Cria a figura e o gráfico de calor (heatmap)\n",
    "figure = plt.figure(figsize=(8, 8))\n",
    "sns.heatmap(con_mat_df, annot=True, cmap=plt.cm.Blues)\n",
    "\n",
    "# Ajusta o layout e adiciona rótulos aos eixos\n",
    "plt.tight_layout()\n",
    "plt.ylabel('Rótulo Verdadeiro')\n",
    "plt.xlabel('Rótulo Previsto')\n",
    "\n",
    "# Exibe o gráfico\n",
    "plt.show()"
   ]
  },
  {
   "cell_type": "markdown",
   "id": "80ebd5eb",
   "metadata": {},
   "source": [
    "### Sensibilidade"
   ]
  },
  {
   "cell_type": "code",
   "execution_count": 18,
   "id": "fb36c673",
   "metadata": {},
   "outputs": [
    {
     "name": "stdout",
     "output_type": "stream",
     "text": [
      "Sensibilidade (Recall): [0.         0.         0.35271318 0.         0.         0.\n",
      " 0.97494781 0.         0.         0.        ]\n"
     ]
    }
   ],
   "source": [
    "sensibility = np.diag(con_mat) / np.sum(con_mat, axis=1)\n",
    "print(\"Sensibilidade (Recall):\", sensibility)"
   ]
  },
  {
   "cell_type": "markdown",
   "id": "5fbda01f",
   "metadata": {},
   "source": [
    "### Especificidade"
   ]
  },
  {
   "cell_type": "code",
   "execution_count": 20,
   "id": "0c4922e6",
   "metadata": {},
   "outputs": [
    {
     "name": "stdout",
     "output_type": "stream",
     "text": [
      "Especificidade: [       nan        nan 0.23759791        nan        nan        nan\n",
      " 0.11031062        nan 0.                nan]\n"
     ]
    },
    {
     "name": "stderr",
     "output_type": "stream",
     "text": [
      "C:\\Users\\lexan\\AppData\\Local\\Temp\\ipykernel_34068\\2411576978.py:1: RuntimeWarning: invalid value encountered in divide\n",
      "  specificity = np.diag(con_mat) / np.sum(con_mat, axis=0)\n"
     ]
    }
   ],
   "source": [
    "specificity = np.diag(con_mat) / np.sum(con_mat, axis=0)\n",
    "print(\"Especificidade:\", specificity)"
   ]
  },
  {
   "cell_type": "markdown",
   "id": "4af61e23",
   "metadata": {},
   "source": [
    "### accuracy"
   ]
  },
  {
   "cell_type": "code",
   "execution_count": 17,
   "id": "a5789142",
   "metadata": {},
   "outputs": [
    {
     "name": "stdout",
     "output_type": "stream",
     "text": [
      "Accuracy: 0.1298\n"
     ]
    }
   ],
   "source": [
    "accuracy = np.sum(y_pred_classes == y_true) / len(y_true)\n",
    "print(f'Accuracy: {accuracy:.4f}')"
   ]
  },
  {
   "cell_type": "markdown",
   "id": "89e3648d",
   "metadata": {},
   "source": [
    "### precisão"
   ]
  },
  {
   "cell_type": "code",
   "execution_count": 21,
   "id": "dc928eb3",
   "metadata": {},
   "outputs": [
    {
     "name": "stdout",
     "output_type": "stream",
     "text": [
      "Precisão: [       nan        nan 0.23759791        nan        nan        nan\n",
      " 0.11031062        nan 0.                nan]\n"
     ]
    },
    {
     "name": "stderr",
     "output_type": "stream",
     "text": [
      "C:\\Users\\lexan\\AppData\\Local\\Temp\\ipykernel_34068\\3591844660.py:1: RuntimeWarning: invalid value encountered in divide\n",
      "  precisao = np.diag(con_mat) / np.sum(con_mat, axis=0)\n"
     ]
    }
   ],
   "source": [
    "precisao = np.diag(con_mat) / np.sum(con_mat, axis=0)\n",
    "print(\"Precisão:\", precisao)"
   ]
  },
  {
   "cell_type": "markdown",
   "id": "e36c238f",
   "metadata": {},
   "source": [
    "### f1_score"
   ]
  },
  {
   "cell_type": "code",
   "execution_count": 22,
   "id": "fb2e6025",
   "metadata": {},
   "outputs": [
    {
     "name": "stdout",
     "output_type": "stream",
     "text": [
      "F1 Score: [       nan        nan 0.28393136        nan        nan        nan\n",
      " 0.19819629        nan        nan        nan]\n"
     ]
    },
    {
     "name": "stderr",
     "output_type": "stream",
     "text": [
      "C:\\Users\\lexan\\AppData\\Local\\Temp\\ipykernel_34068\\1248730088.py:1: RuntimeWarning: invalid value encountered in divide\n",
      "  f1_score = 2 * (precisao * sensibility) / (precisao + sensibility)\n"
     ]
    }
   ],
   "source": [
    "f1_score = 2 * (precisao * sensibility) / (precisao + sensibility)\n",
    "print(\"F1 Score:\", f1_score)"
   ]
  }
 ],
 "metadata": {
  "kernelspec": {
   "display_name": "projeto_dio_calculo_metricas_avaliacao (3.12.10)",
   "language": "python",
   "name": "python3"
  },
  "language_info": {
   "codemirror_mode": {
    "name": "ipython",
    "version": 3
   },
   "file_extension": ".py",
   "mimetype": "text/x-python",
   "name": "python",
   "nbconvert_exporter": "python",
   "pygments_lexer": "ipython3",
   "version": "3.12.10"
  }
 },
 "nbformat": 4,
 "nbformat_minor": 5
}
